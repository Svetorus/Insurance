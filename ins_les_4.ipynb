{
  "nbformat": 4,
  "nbformat_minor": 0,
  "metadata": {
    "colab": {
      "name": "ins_les_4.ipynb",
      "provenance": [],
      "collapsed_sections": [],
      "include_colab_link": true
    },
    "kernelspec": {
      "display_name": "Python 3",
      "language": "python",
      "name": "python3"
    },
    "language_info": {
      "codemirror_mode": {
        "name": "ipython",
        "version": 3
      },
      "file_extension": ".py",
      "mimetype": "text/x-python",
      "name": "python",
      "nbconvert_exporter": "python",
      "pygments_lexer": "ipython3",
      "version": "3.7.3"
    }
  },
  "cells": [
    {
      "cell_type": "markdown",
      "metadata": {
        "id": "view-in-github",
        "colab_type": "text"
      },
      "source": [
        "<a href=\"https://colab.research.google.com/github/Svetorus/Insurance/blob/master/ins_les_4.ipynb\" target=\"_parent\"><img src=\"https://colab.research.google.com/assets/colab-badge.svg\" alt=\"Open In Colab\"/></a>"
      ]
    },
    {
      "cell_type": "markdown",
      "metadata": {
        "colab_type": "text",
        "id": "Vgpa6dK_sjd6"
      },
      "source": [
        "## Схема проекта"
      ]
    },
    {
      "cell_type": "markdown",
      "metadata": {
        "colab_type": "text",
        "id": "H3EsTC0PgFSG"
      },
      "source": [
        "**Принципиальные моменты:**\n",
        "*   У страховой компании нет времени \"на подумать\", решение о приеме на страхование или отказе, а также о тарифе должено быть сделано непосредственно в момент обращения клиента за полисом. Соответственно, сервис должен работать в режиме реального времени и давать ответ в течение максимум нескольких секунд.\n",
        "*   Сервис скоринга строится обычно отдельным блоком, а фронт-система взаимодействует с сервисом через API (Application programming interface).\n",
        "*   Запрос данных из внешних источников может производиться как на уровне фронт-системы, так и на уровне сервиса.\n",
        "*   Один из возможных вариантов - Flask.\n",
        "*   Передача информации производится путем обмена json-файлами.\n",
        "*   Для тестирования можно использовать Postman."
      ]
    },
    {
      "cell_type": "markdown",
      "metadata": {
        "colab_type": "text",
        "id": "w4V2hYPyAYs9"
      },
      "source": [
        "  ![](https://drive.google.com/uc?export=view&id=1OAOF1M2U14UJWDmeJg2mwo-pgSwyNyzc)"
      ]
    },
    {
      "cell_type": "markdown",
      "metadata": {
        "colab_type": "text",
        "id": "5z3-vxNngRLY"
      },
      "source": [
        "## JSON"
      ]
    },
    {
      "cell_type": "markdown",
      "metadata": {
        "colab_type": "text",
        "id": "I3qRhEzYAZE_"
      },
      "source": [
        "JSON (JavaScript Object Notation) - простой текстовый формат обмена данными, он основан на подмножестве языка программирования JavaScript.<br/>\n",
        "Например, строка из нашего датасета выглядела бы следующим образом:<br/>\n",
        "```\n",
        "{\n",
        "\"ID\": 1,\n",
        "\"Exposure\": 0.583,\n",
        "\"RecordBeg\": \"2004-06-01\",\n",
        "\"RecordEnd\": \"\",\n",
        "\"DrivAge\": 55,\n",
        "\"Gender\": \"Female\",\n",
        "...\n",
        "}\n",
        "```"
      ]
    },
    {
      "cell_type": "markdown",
      "metadata": {
        "colab_type": "text",
        "id": "_KCCtAZqgbI6"
      },
      "source": [
        "## При внедрении"
      ]
    },
    {
      "cell_type": "markdown",
      "metadata": {
        "colab_type": "text",
        "id": "bwDoeEWdRZUv"
      },
      "source": [
        "**При внедрении необходимо сделать:**\n",
        "*   Определить формат json'а, в котором данные будут приниматься сервисом и отправляться обратно.\n",
        "*   Определить ip-адрес и порт, на который будут поступать данные.\n",
        "*   Создать во Flask необходимые роуты:<br/>\n",
        "    `@app.route('/predict_example', method='POST')`<br/>\n",
        "    `def predict_example():`\n",
        "*   Перенести во Flask все функции преобразования данных,\n",
        "    *   формат данные, приходящих от фронт-системы, может отличаться от формата исторических данных, использовавшихся при построении модели; в результате преобразований данные на вход модели должны поступить ровно в том виде, в каком была обучена модель.\n",
        "*   Загрузить обученные модели.\n",
        "*   Настроить логирование, запись котировок."
      ]
    },
    {
      "cell_type": "markdown",
      "metadata": {
        "colab_type": "text",
        "id": "1c-2EUcjRZQp"
      },
      "source": [
        "**Особенности:**\n",
        "*   Библиотека H2O использует виртуальную Java-машину:\n",
        "    *   ее нужно инициализировать один раз, а не поднимать заново для каждого расчета;\n",
        "    *   вручную выделить под нее отдельный порт и указать размер используемой памяти;\n",
        "    *   не создавать каждый раз заново H2O-Frame, а записывать в единожды подготовленный.\n",
        "*   Необходимо удостовериться, что на всех этапах сервис отрабатывает корректно; например, можно иметь заготовленный массив котировок с заранее известными ответами.\n",
        "*   Необходимо провести нагрузочное тестирование и удостовериться, что сервис справляется с нагрузкой.\n",
        "*   Для согласованности версий Python, Java при переносе на другие серверы имеет смысл использовать докеры.\n",
        "\n"
      ]
    },
    {
      "cell_type": "markdown",
      "metadata": {
        "id": "gYIdtHuOEKm5",
        "colab_type": "text"
      },
      "source": [
        " "
      ]
    },
    {
      "cell_type": "markdown",
      "metadata": {
        "id": "c3JiXTtmEKm6",
        "colab_type": "text"
      },
      "source": [
        "## Requirements"
      ]
    },
    {
      "cell_type": "markdown",
      "metadata": {
        "id": "bDt0ID_BEKm6",
        "colab_type": "text"
      },
      "source": [
        "h2o version **'3.28.0.1'**"
      ]
    },
    {
      "cell_type": "markdown",
      "metadata": {
        "id": "0YRUrt5jEKm7",
        "colab_type": "text"
      },
      "source": [
        "pandas version **'0.24.2'**"
      ]
    },
    {
      "cell_type": "markdown",
      "metadata": {
        "id": "bLvhSHTCEKm8",
        "colab_type": "text"
      },
      "source": [
        "flask version **'1.1.1'**"
      ]
    },
    {
      "cell_type": "markdown",
      "metadata": {
        "id": "xNVpXCU3EKm9",
        "colab_type": "text"
      },
      "source": [
        "sqlite3 **'3.29.0'**"
      ]
    },
    {
      "cell_type": "markdown",
      "metadata": {
        "id": "9p4Ms8etEKm9",
        "colab_type": "text"
      },
      "source": [
        "## Run service"
      ]
    },
    {
      "cell_type": "code",
      "metadata": {
        "id": "RaYCvajtEKm-",
        "colab_type": "code",
        "colab": {},
        "outputId": "00290c0d-74fd-4a91-a529-855a88ddd3c8"
      },
      "source": [
        "%run ./flask_ins.py"
      ],
      "execution_count": 0,
      "outputs": [
        {
          "output_type": "stream",
          "text": [
            "Checking whether there is an H2O instance running at http://localhost:54321 . connected.\n"
          ],
          "name": "stdout"
        },
        {
          "output_type": "display_data",
          "data": {
            "text/html": [
              "<div style=\"overflow:auto\"><table style=\"width:50%\"><tr><td>H2O cluster uptime:</td>\n",
              "<td>7 mins 35 secs</td></tr>\n",
              "<tr><td>H2O cluster timezone:</td>\n",
              "<td>+03:00</td></tr>\n",
              "<tr><td>H2O data parsing timezone:</td>\n",
              "<td>UTC</td></tr>\n",
              "<tr><td>H2O cluster version:</td>\n",
              "<td>3.28.0.1</td></tr>\n",
              "<tr><td>H2O cluster version age:</td>\n",
              "<td>12 days </td></tr>\n",
              "<tr><td>H2O cluster name:</td>\n",
              "<td>H2O_from_python_TOSHIBA_ck4zcl</td></tr>\n",
              "<tr><td>H2O cluster total nodes:</td>\n",
              "<td>1</td></tr>\n",
              "<tr><td>H2O cluster free memory:</td>\n",
              "<td>999 Mb</td></tr>\n",
              "<tr><td>H2O cluster total cores:</td>\n",
              "<td>4</td></tr>\n",
              "<tr><td>H2O cluster allowed cores:</td>\n",
              "<td>4</td></tr>\n",
              "<tr><td>H2O cluster status:</td>\n",
              "<td>locked, healthy</td></tr>\n",
              "<tr><td>H2O connection url:</td>\n",
              "<td>http://localhost:54321</td></tr>\n",
              "<tr><td>H2O connection proxy:</td>\n",
              "<td>{'http': None, 'https': None}</td></tr>\n",
              "<tr><td>H2O internal security:</td>\n",
              "<td>False</td></tr>\n",
              "<tr><td>H2O API Extensions:</td>\n",
              "<td>Amazon S3, Algos, AutoML, Core V3, TargetEncoder, Core V4</td></tr>\n",
              "<tr><td>Python version:</td>\n",
              "<td>3.7.3 final</td></tr></table></div>"
            ],
            "text/plain": [
              "--------------------------  ---------------------------------------------------------\n",
              "H2O cluster uptime:         7 mins 35 secs\n",
              "H2O cluster timezone:       +03:00\n",
              "H2O data parsing timezone:  UTC\n",
              "H2O cluster version:        3.28.0.1\n",
              "H2O cluster version age:    12 days\n",
              "H2O cluster name:           H2O_from_python_TOSHIBA_ck4zcl\n",
              "H2O cluster total nodes:    1\n",
              "H2O cluster free memory:    999 Mb\n",
              "H2O cluster total cores:    4\n",
              "H2O cluster allowed cores:  4\n",
              "H2O cluster status:         locked, healthy\n",
              "H2O connection url:         http://localhost:54321\n",
              "H2O connection proxy:       {'http': None, 'https': None}\n",
              "H2O internal security:      False\n",
              "H2O API Extensions:         Amazon S3, Algos, AutoML, Core V3, TargetEncoder, Core V4\n",
              "Python version:             3.7.3 final\n",
              "--------------------------  ---------------------------------------------------------"
            ]
          },
          "metadata": {
            "tags": []
          }
        },
        {
          "output_type": "stream",
          "text": [
            " * Serving Flask app \"flask_ins\" (lazy loading)\n",
            " * Environment: production\n",
            "   WARNING: This is a development server. Do not use it in a production deployment.\n",
            "   Use a production WSGI server instead.\n",
            " * Debug mode: off\n"
          ],
          "name": "stdout"
        },
        {
          "output_type": "stream",
          "text": [
            "INFO:werkzeug: * Running on http://127.0.0.1:5000/ (Press CTRL+C to quit)\n"
          ],
          "name": "stderr"
        },
        {
          "output_type": "stream",
          "text": [
            " * Running on http://6d4dfcf9.ngrok.io\n",
            " * Traffic stats available on http://127.0.0.1:4040\n",
            "Parse progress: |█████████████████████████████████████████████████████████| 100%\n",
            "glm prediction progress: |████████████████████████████████████████████████| 100%\n",
            "glm prediction progress: |████████████████████████████████████████████████| 100%\n"
          ],
          "name": "stdout"
        },
        {
          "output_type": "stream",
          "text": [
            "INFO:werkzeug:127.0.0.1 - - [29/Dec/2019 12:42:28] \"POST /predict HTTP/1.1\" 200 -\n"
          ],
          "name": "stderr"
        },
        {
          "output_type": "stream",
          "text": [
            "Parse progress: |█████████████████████████████████████████████████████████| 100%\n",
            "glm prediction progress: |████████████████████████████████████████████████| 100%\n",
            "glm prediction progress: |████████████████████████████████████████████████| 100%\n"
          ],
          "name": "stdout"
        },
        {
          "output_type": "stream",
          "text": [
            "INFO:werkzeug:127.0.0.1 - - [29/Dec/2019 12:43:06] \"POST /predict HTTP/1.1\" 200 -\n"
          ],
          "name": "stderr"
        }
      ]
    },
    {
      "cell_type": "markdown",
      "metadata": {
        "id": "T71OWbGTEKnC",
        "colab_type": "text"
      },
      "source": [
        "## Вывод данных из БД"
      ]
    },
    {
      "cell_type": "code",
      "metadata": {
        "id": "zhRMJL0YEKnD",
        "colab_type": "code",
        "colab": {}
      },
      "source": [
        "with sqlite3.connect('ins.db') as conn:\n",
        "    cursor = conn.cursor()\n",
        "    cursor.execute('SELECT * FROM ins ORDER BY now DESC')\n",
        "    rows = cursor.fetchall()\n",
        "    conn.commit()"
      ],
      "execution_count": 0,
      "outputs": []
    },
    {
      "cell_type": "code",
      "metadata": {
        "id": "jmUh3D39EKnG",
        "colab_type": "code",
        "colab": {},
        "outputId": "52abc0b4-5df6-491d-af58-fb16bca3bcd7"
      },
      "source": [
        "from collections import namedtuple\n",
        "\n",
        "Result = namedtuple('Result', ['now', 'ID', 'value_Poisson', 'value_Gamma', 'value_BurningCost'])\n",
        "for row in rows:\n",
        "    pprint(Result(*row))"
      ],
      "execution_count": 0,
      "outputs": [
        {
          "output_type": "stream",
          "text": [
            "Result(now='2019-12-29 12:43:06.984526', ID='1', value_Poisson='0.22236506616314888', value_Gamma='881.8645779723482', value_BurningCost='196.09587522775857')\n",
            "Result(now='2019-12-29 12:42:28.513326', ID='1', value_Poisson='0.22236506616314888', value_Gamma='881.8645779723482', value_BurningCost='196.09587522775857')\n",
            "Result(now='2019-12-29 12:39:08.992914', ID='1', value_Poisson='0.22236506616314888', value_Gamma='881.8645779723482', value_BurningCost='196.09587522775857')\n",
            "Result(now='2019-12-29 12:36:32.808980', ID='1', value_Poisson='0.21227993533983647', value_Gamma='1066.3756666548131', value_BurningCost='226.37015756545873')\n"
          ],
          "name": "stdout"
        }
      ]
    },
    {
      "cell_type": "markdown",
      "metadata": {
        "id": "9JboJ3VsEKnI",
        "colab_type": "text"
      },
      "source": [
        " "
      ]
    }
  ]
}