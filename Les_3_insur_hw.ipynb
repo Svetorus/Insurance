{
  "nbformat": 4,
  "nbformat_minor": 0,
  "metadata": {
    "colab": {
      "name": "Les_3_insur hw.ipynb",
      "provenance": [],
      "collapsed_sections": [
        "Xljx8j0-_jXR"
      ],
      "include_colab_link": true
    },
    "kernelspec": {
      "display_name": "Python 3",
      "language": "python",
      "name": "python3"
    },
    "language_info": {
      "codemirror_mode": {
        "name": "ipython",
        "version": 3
      },
      "file_extension": ".py",
      "mimetype": "text/x-python",
      "name": "python",
      "nbconvert_exporter": "python",
      "pygments_lexer": "ipython3",
      "version": "3.7.3"
    }
  },
  "cells": [
    {
      "cell_type": "markdown",
      "metadata": {
        "id": "view-in-github",
        "colab_type": "text"
      },
      "source": [
        "<a href=\"https://colab.research.google.com/github/Svetorus/Insurance/blob/master/Les_3_insur_hw.ipynb\" target=\"_parent\"><img src=\"https://colab.research.google.com/assets/colab-badge.svg\" alt=\"Open In Colab\"/></a>"
      ]
    },
    {
      "cell_type": "markdown",
      "metadata": {
        "colab_type": "text",
        "id": "Xljx8j0-_jXR"
      },
      "source": [
        "### * Многоклассовая классификация"
      ]
    },
    {
      "cell_type": "markdown",
      "metadata": {
        "colab_type": "text",
        "id": "bVx_WNaKwibO"
      },
      "source": [
        "В текущем домашнем задание предлагается построить модель многоклассовой классификации для показателя `RiskVar`. Воспользуемся частях набора данных freMPL(1 и 2)."
      ]
    },
    {
      "cell_type": "code",
      "metadata": {
        "colab_type": "code",
        "id": "n98J3UNxSLUd",
        "colab": {}
      },
      "source": [
        "import pandas as pd\n",
        "import numpy as np\n",
        "import xgboost as xgb\n",
        "import matplotlib.pyplot as plt\n",
        "from sklearn.model_selection import train_test_split\n",
        "from sklearn.metrics import f1_score, accuracy_score, confusion_matrix\n",
        "from hyperopt import hp, tpe, space_eval\n",
        "from hyperopt.fmin import fmin\n",
        "\n",
        "def SeriesFactorizer(series):\n",
        "    series, unique = pd.factorize(series)\n",
        "    reference = {x: i for x, i in enumerate(unique)}\n",
        "    # print(reference)\n",
        "    return series.astype(np.int64), reference"
      ],
      "execution_count": 0,
      "outputs": []
    },
    {
      "cell_type": "code",
      "metadata": {
        "colab_type": "code",
        "id": "eu9I-5AQFGy4",
        "outputId": "4213b120-bcc9-4c16-fea6-f53a2945e5a3",
        "colab": {
          "base_uri": "https://localhost:8080/",
          "height": 34
        }
      },
      "source": [
        "# Подключение к Google drive\n",
        "\n",
        "from google.colab import drive\n",
        "drive.mount('/content/drive')"
      ],
      "execution_count": 0,
      "outputs": [
        {
          "output_type": "stream",
          "text": [
            "Drive already mounted at /content/drive; to attempt to forcibly remount, call drive.mount(\"/content/drive\", force_remount=True).\n"
          ],
          "name": "stdout"
        }
      ]
    },
    {
      "cell_type": "code",
      "metadata": {
        "colab_type": "code",
        "id": "cdgTw4I-7GdC",
        "colab": {}
      },
      "source": [
        "df = pd.read_csv('/content/drive/My Drive/freMPL-R.csv', low_memory=False)\n",
        "#df = pd.read_csv('freMPL-R.csv', low_memory=False)"
      ],
      "execution_count": 0,
      "outputs": []
    },
    {
      "cell_type": "code",
      "metadata": {
        "colab_type": "code",
        "id": "v__1kPsuSrVd",
        "colab": {}
      },
      "source": [
        "df = df.loc[df.Dataset.isin([1, 2])]\n",
        "df.drop('Dataset', axis=1, inplace=True)\n",
        "df.dropna(axis=1, how='all', inplace=True)\n",
        "df.drop_duplicates(inplace=True)\n",
        "df.reset_index(drop=True, inplace=True)"
      ],
      "execution_count": 0,
      "outputs": []
    },
    {
      "cell_type": "code",
      "metadata": {
        "colab_type": "code",
        "id": "cCKtHz0eBWEG",
        "outputId": "49eea5e3-b86f-4315-a24d-5f1f012fa319",
        "colab": {
          "base_uri": "https://localhost:8080/",
          "height": 377
        }
      },
      "source": [
        "df.head()"
      ],
      "execution_count": 0,
      "outputs": [
        {
          "output_type": "execute_result",
          "data": {
            "text/html": [
              "<div>\n",
              "<style scoped>\n",
              "    .dataframe tbody tr th:only-of-type {\n",
              "        vertical-align: middle;\n",
              "    }\n",
              "\n",
              "    .dataframe tbody tr th {\n",
              "        vertical-align: top;\n",
              "    }\n",
              "\n",
              "    .dataframe thead th {\n",
              "        text-align: right;\n",
              "    }\n",
              "</style>\n",
              "<table border=\"1\" class=\"dataframe\">\n",
              "  <thead>\n",
              "    <tr style=\"text-align: right;\">\n",
              "      <th></th>\n",
              "      <th>Exposure</th>\n",
              "      <th>LicAge</th>\n",
              "      <th>RecordBeg</th>\n",
              "      <th>RecordEnd</th>\n",
              "      <th>VehAge</th>\n",
              "      <th>Gender</th>\n",
              "      <th>MariStat</th>\n",
              "      <th>SocioCateg</th>\n",
              "      <th>VehUsage</th>\n",
              "      <th>DrivAge</th>\n",
              "      <th>HasKmLimit</th>\n",
              "      <th>BonusMalus</th>\n",
              "      <th>VehBody</th>\n",
              "      <th>VehPrice</th>\n",
              "      <th>VehEngine</th>\n",
              "      <th>VehEnergy</th>\n",
              "      <th>VehMaxSpeed</th>\n",
              "      <th>VehClass</th>\n",
              "      <th>ClaimAmount</th>\n",
              "      <th>RiskVar</th>\n",
              "      <th>Garage</th>\n",
              "      <th>ClaimInd</th>\n",
              "    </tr>\n",
              "  </thead>\n",
              "  <tbody>\n",
              "    <tr>\n",
              "      <th>0</th>\n",
              "      <td>0.583</td>\n",
              "      <td>366</td>\n",
              "      <td>2004-06-01</td>\n",
              "      <td>NaN</td>\n",
              "      <td>2</td>\n",
              "      <td>Female</td>\n",
              "      <td>Other</td>\n",
              "      <td>CSP1</td>\n",
              "      <td>Professional</td>\n",
              "      <td>55</td>\n",
              "      <td>0</td>\n",
              "      <td>72</td>\n",
              "      <td>sedan</td>\n",
              "      <td>D</td>\n",
              "      <td>injection</td>\n",
              "      <td>regular</td>\n",
              "      <td>160-170 km/h</td>\n",
              "      <td>B</td>\n",
              "      <td>0.000000</td>\n",
              "      <td>15.0</td>\n",
              "      <td>None</td>\n",
              "      <td>0</td>\n",
              "    </tr>\n",
              "    <tr>\n",
              "      <th>1</th>\n",
              "      <td>0.200</td>\n",
              "      <td>187</td>\n",
              "      <td>2004-10-19</td>\n",
              "      <td>NaN</td>\n",
              "      <td>0</td>\n",
              "      <td>Male</td>\n",
              "      <td>Alone</td>\n",
              "      <td>CSP55</td>\n",
              "      <td>Private+trip to office</td>\n",
              "      <td>34</td>\n",
              "      <td>0</td>\n",
              "      <td>80</td>\n",
              "      <td>microvan</td>\n",
              "      <td>K</td>\n",
              "      <td>direct injection overpowered</td>\n",
              "      <td>diesel</td>\n",
              "      <td>170-180 km/h</td>\n",
              "      <td>M1</td>\n",
              "      <td>0.000000</td>\n",
              "      <td>20.0</td>\n",
              "      <td>None</td>\n",
              "      <td>0</td>\n",
              "    </tr>\n",
              "    <tr>\n",
              "      <th>2</th>\n",
              "      <td>0.083</td>\n",
              "      <td>169</td>\n",
              "      <td>2004-07-16</td>\n",
              "      <td>2004-08-16</td>\n",
              "      <td>1</td>\n",
              "      <td>Female</td>\n",
              "      <td>Other</td>\n",
              "      <td>CSP1</td>\n",
              "      <td>Professional</td>\n",
              "      <td>33</td>\n",
              "      <td>0</td>\n",
              "      <td>63</td>\n",
              "      <td>other microvan</td>\n",
              "      <td>L</td>\n",
              "      <td>direct injection overpowered</td>\n",
              "      <td>diesel</td>\n",
              "      <td>170-180 km/h</td>\n",
              "      <td>M1</td>\n",
              "      <td>0.000000</td>\n",
              "      <td>17.0</td>\n",
              "      <td>None</td>\n",
              "      <td>0</td>\n",
              "    </tr>\n",
              "    <tr>\n",
              "      <th>3</th>\n",
              "      <td>0.375</td>\n",
              "      <td>170</td>\n",
              "      <td>2004-08-16</td>\n",
              "      <td>NaN</td>\n",
              "      <td>1</td>\n",
              "      <td>Female</td>\n",
              "      <td>Other</td>\n",
              "      <td>CSP1</td>\n",
              "      <td>Professional</td>\n",
              "      <td>34</td>\n",
              "      <td>0</td>\n",
              "      <td>63</td>\n",
              "      <td>other microvan</td>\n",
              "      <td>L</td>\n",
              "      <td>direct injection overpowered</td>\n",
              "      <td>diesel</td>\n",
              "      <td>170-180 km/h</td>\n",
              "      <td>M1</td>\n",
              "      <td>0.000000</td>\n",
              "      <td>17.0</td>\n",
              "      <td>Private garage</td>\n",
              "      <td>0</td>\n",
              "    </tr>\n",
              "    <tr>\n",
              "      <th>4</th>\n",
              "      <td>0.500</td>\n",
              "      <td>224</td>\n",
              "      <td>2004-01-01</td>\n",
              "      <td>2004-07-01</td>\n",
              "      <td>3</td>\n",
              "      <td>Male</td>\n",
              "      <td>Other</td>\n",
              "      <td>CSP47</td>\n",
              "      <td>Professional</td>\n",
              "      <td>53</td>\n",
              "      <td>0</td>\n",
              "      <td>72</td>\n",
              "      <td>van</td>\n",
              "      <td>L</td>\n",
              "      <td>direct injection overpowered</td>\n",
              "      <td>diesel</td>\n",
              "      <td>140-150 km/h</td>\n",
              "      <td>0</td>\n",
              "      <td>1418.610272</td>\n",
              "      <td>19.0</td>\n",
              "      <td>None</td>\n",
              "      <td>1</td>\n",
              "    </tr>\n",
              "  </tbody>\n",
              "</table>\n",
              "</div>"
            ],
            "text/plain": [
              "   Exposure  LicAge   RecordBeg  ... RiskVar          Garage ClaimInd\n",
              "0     0.583     366  2004-06-01  ...    15.0            None        0\n",
              "1     0.200     187  2004-10-19  ...    20.0            None        0\n",
              "2     0.083     169  2004-07-16  ...    17.0            None        0\n",
              "3     0.375     170  2004-08-16  ...    17.0  Private garage        0\n",
              "4     0.500     224  2004-01-01  ...    19.0            None        1\n",
              "\n",
              "[5 rows x 22 columns]"
            ]
          },
          "metadata": {
            "tags": []
          },
          "execution_count": 5
        }
      ]
    },
    {
      "cell_type": "markdown",
      "metadata": {
        "colab_type": "text",
        "id": "r9dMlMh5QcXt"
      },
      "source": [
        "Предобработайте данные"
      ]
    },
    {
      "cell_type": "code",
      "metadata": {
        "colab_type": "code",
        "id": "4Ubfd6LYLpyK",
        "outputId": "6e044508-330c-4787-e80c-ec32e459b310",
        "colab": {
          "base_uri": "https://localhost:8080/",
          "height": 34
        }
      },
      "source": [
        "df.shape"
      ],
      "execution_count": 0,
      "outputs": [
        {
          "output_type": "execute_result",
          "data": {
            "text/plain": [
              "(40732, 22)"
            ]
          },
          "metadata": {
            "tags": []
          },
          "execution_count": 6
        }
      ]
    },
    {
      "cell_type": "code",
      "metadata": {
        "colab_type": "code",
        "id": "S4g1U0-rdIZq",
        "outputId": "00f197df-131e-445f-d266-00618e73a23c",
        "colab": {
          "base_uri": "https://localhost:8080/",
          "height": 476
        }
      },
      "source": [
        "df.info()"
      ],
      "execution_count": 0,
      "outputs": [
        {
          "output_type": "stream",
          "text": [
            "<class 'pandas.core.frame.DataFrame'>\n",
            "RangeIndex: 40732 entries, 0 to 40731\n",
            "Data columns (total 22 columns):\n",
            "Exposure       40732 non-null float64\n",
            "LicAge         40732 non-null int64\n",
            "RecordBeg      40732 non-null object\n",
            "RecordEnd      21616 non-null object\n",
            "VehAge         40732 non-null object\n",
            "Gender         40732 non-null object\n",
            "MariStat       40732 non-null object\n",
            "SocioCateg     40732 non-null object\n",
            "VehUsage       40732 non-null object\n",
            "DrivAge        40732 non-null int64\n",
            "HasKmLimit     40732 non-null int64\n",
            "BonusMalus     40732 non-null int64\n",
            "VehBody        40732 non-null object\n",
            "VehPrice       40732 non-null object\n",
            "VehEngine      40732 non-null object\n",
            "VehEnergy      40732 non-null object\n",
            "VehMaxSpeed    40732 non-null object\n",
            "VehClass       40732 non-null object\n",
            "ClaimAmount    40732 non-null float64\n",
            "RiskVar        40732 non-null float64\n",
            "Garage         40732 non-null object\n",
            "ClaimInd       40732 non-null int64\n",
            "dtypes: float64(3), int64(5), object(14)\n",
            "memory usage: 6.8+ MB\n"
          ],
          "name": "stdout"
        }
      ]
    },
    {
      "cell_type": "markdown",
      "metadata": {
        "colab_type": "text",
        "id": "zknGDuYILpyT"
      },
      "source": [
        "**Переделаем признак RecordBeg в признак RecordLength (сколько дней длится запись истории), а признак RecordEnd - в бинарный (кончилась ли запись к настоящему моменту).**"
      ]
    },
    {
      "cell_type": "code",
      "metadata": {
        "colab_type": "code",
        "id": "isKKBAg8LpyV",
        "colab": {}
      },
      "source": [
        "df['RecordBeg'] = pd.to_datetime(df['RecordBeg'])\n",
        "df['RecordEnd'] = pd.to_datetime(df['RecordEnd'])"
      ],
      "execution_count": 0,
      "outputs": []
    },
    {
      "cell_type": "code",
      "metadata": {
        "colab_type": "code",
        "id": "QEvfQ6xyLpyZ",
        "outputId": "592a8978-da9a-4337-84bd-d6d486d65ad7",
        "colab": {
          "base_uri": "https://localhost:8080/",
          "height": 34
        }
      },
      "source": [
        "df['RecordEnd'].max()"
      ],
      "execution_count": 0,
      "outputs": [
        {
          "output_type": "execute_result",
          "data": {
            "text/plain": [
              "Timestamp('2004-12-31 00:00:00')"
            ]
          },
          "metadata": {
            "tags": []
          },
          "execution_count": 9
        }
      ]
    },
    {
      "cell_type": "code",
      "metadata": {
        "colab_type": "code",
        "id": "6KLcuNNKLpyd",
        "colab": {}
      },
      "source": [
        "today = pd.to_datetime('2005-01-01')\n",
        "df['RecordEnd'].fillna(today, inplace=True)"
      ],
      "execution_count": 0,
      "outputs": []
    },
    {
      "cell_type": "code",
      "metadata": {
        "colab_type": "code",
        "id": "PxGUNoViLpyi",
        "colab": {}
      },
      "source": [
        "df['RecordBeg'] = (df['RecordEnd'] - df['RecordBeg']).apply(lambda delta: delta.days)\n",
        "df.rename(columns={'RecordBeg': 'RecordDays'}, inplace=True)"
      ],
      "execution_count": 0,
      "outputs": []
    },
    {
      "cell_type": "code",
      "metadata": {
        "colab_type": "code",
        "id": "37KvrCKzLpym",
        "colab": {}
      },
      "source": [
        "df['RecordEnd'] = df['RecordEnd'] != today\n",
        "df['RecordEnd'] = df['RecordEnd'].astype(np.int64)"
      ],
      "execution_count": 0,
      "outputs": []
    },
    {
      "cell_type": "code",
      "metadata": {
        "colab_type": "code",
        "id": "iDWXkA2tLpyq",
        "colab": {}
      },
      "source": [
        "df['SocioCateg'] = df.SocioCateg.str.slice(0, 4)\n",
        "df['DrivAgeSq'] = df.DrivAge.apply(lambda x: x**2)"
      ],
      "execution_count": 0,
      "outputs": []
    },
    {
      "cell_type": "code",
      "metadata": {
        "colab_type": "code",
        "id": "M6I3iznlLpyu",
        "colab": {}
      },
      "source": [
        "df['RiskVar'] = df['RiskVar'].astype(np.int64)"
      ],
      "execution_count": 0,
      "outputs": []
    },
    {
      "cell_type": "code",
      "metadata": {
        "colab_type": "code",
        "id": "dyk5HGy3Lpyy",
        "outputId": "e76bd503-ac42-478a-d686-dc003831761a",
        "colab": {
          "base_uri": "https://localhost:8080/",
          "height": 187
        }
      },
      "source": [
        "cat_features = []\n",
        "for feature in df.columns:\n",
        "    if df[feature].nunique() > 2 and df[feature].dtype == 'object':\n",
        "        cat_features.append(feature)\n",
        "cat_features"
      ],
      "execution_count": 0,
      "outputs": [
        {
          "output_type": "execute_result",
          "data": {
            "text/plain": [
              "['VehAge',\n",
              " 'SocioCateg',\n",
              " 'VehUsage',\n",
              " 'VehBody',\n",
              " 'VehPrice',\n",
              " 'VehEngine',\n",
              " 'VehEnergy',\n",
              " 'VehMaxSpeed',\n",
              " 'VehClass',\n",
              " 'Garage']"
            ]
          },
          "metadata": {
            "tags": []
          },
          "execution_count": 15
        }
      ]
    },
    {
      "cell_type": "code",
      "metadata": {
        "colab_type": "code",
        "id": "55AfgLaXLpy3",
        "colab": {}
      },
      "source": [
        "for feature in cat_features:\n",
        "    dummies_df = pd.get_dummies(df[feature], prefix=feature)\n",
        "    df = pd.concat([df, dummies_df], axis=1)\n",
        "    df.drop(columns=feature, inplace=True)"
      ],
      "execution_count": 0,
      "outputs": []
    },
    {
      "cell_type": "code",
      "metadata": {
        "colab_type": "code",
        "id": "l9CrVMIbLpy7",
        "colab": {}
      },
      "source": [
        "refs = {}\n",
        "for feature in df.columns:\n",
        "    if df[feature].nunique() == 2 and df[feature].dtype == 'object':\n",
        "        df[feature], refs[feature] = SeriesFactorizer(df[feature])"
      ],
      "execution_count": 0,
      "outputs": []
    },
    {
      "cell_type": "code",
      "metadata": {
        "colab_type": "code",
        "id": "76F-wtwPLpy_",
        "outputId": "10bd567c-d1ab-450a-f37a-7003db703809",
        "colab": {
          "base_uri": "https://localhost:8080/",
          "height": 1000
        }
      },
      "source": [
        "df.info()"
      ],
      "execution_count": 0,
      "outputs": [
        {
          "output_type": "stream",
          "text": [
            "<class 'pandas.core.frame.DataFrame'>\n",
            "RangeIndex: 40732 entries, 0 to 40731\n",
            "Data columns (total 99 columns):\n",
            "Exposure                                  40732 non-null float64\n",
            "LicAge                                    40732 non-null int64\n",
            "RecordDays                                40732 non-null int64\n",
            "RecordEnd                                 40732 non-null int64\n",
            "Gender                                    40732 non-null int64\n",
            "MariStat                                  40732 non-null int64\n",
            "DrivAge                                   40732 non-null int64\n",
            "HasKmLimit                                40732 non-null int64\n",
            "BonusMalus                                40732 non-null int64\n",
            "ClaimAmount                               40732 non-null float64\n",
            "RiskVar                                   40732 non-null int64\n",
            "ClaimInd                                  40732 non-null int64\n",
            "DrivAgeSq                                 40732 non-null int64\n",
            "VehAge_0                                  40732 non-null uint8\n",
            "VehAge_1                                  40732 non-null uint8\n",
            "VehAge_10+                                40732 non-null uint8\n",
            "VehAge_2                                  40732 non-null uint8\n",
            "VehAge_3                                  40732 non-null uint8\n",
            "VehAge_4                                  40732 non-null uint8\n",
            "VehAge_5                                  40732 non-null uint8\n",
            "VehAge_6-7                                40732 non-null uint8\n",
            "VehAge_8-9                                40732 non-null uint8\n",
            "SocioCateg_CSP1                           40732 non-null uint8\n",
            "SocioCateg_CSP2                           40732 non-null uint8\n",
            "SocioCateg_CSP3                           40732 non-null uint8\n",
            "SocioCateg_CSP4                           40732 non-null uint8\n",
            "SocioCateg_CSP5                           40732 non-null uint8\n",
            "SocioCateg_CSP6                           40732 non-null uint8\n",
            "SocioCateg_CSP7                           40732 non-null uint8\n",
            "SocioCateg_CSP9                           40732 non-null uint8\n",
            "VehUsage_Private                          40732 non-null uint8\n",
            "VehUsage_Private+trip to office           40732 non-null uint8\n",
            "VehUsage_Professional                     40732 non-null uint8\n",
            "VehUsage_Professional run                 40732 non-null uint8\n",
            "VehBody_bus                               40732 non-null uint8\n",
            "VehBody_cabriolet                         40732 non-null uint8\n",
            "VehBody_coupe                             40732 non-null uint8\n",
            "VehBody_microvan                          40732 non-null uint8\n",
            "VehBody_other microvan                    40732 non-null uint8\n",
            "VehBody_sedan                             40732 non-null uint8\n",
            "VehBody_sport utility vehicle             40732 non-null uint8\n",
            "VehBody_station wagon                     40732 non-null uint8\n",
            "VehBody_van                               40732 non-null uint8\n",
            "VehPrice_A                                40732 non-null uint8\n",
            "VehPrice_B                                40732 non-null uint8\n",
            "VehPrice_C                                40732 non-null uint8\n",
            "VehPrice_D                                40732 non-null uint8\n",
            "VehPrice_E                                40732 non-null uint8\n",
            "VehPrice_F                                40732 non-null uint8\n",
            "VehPrice_G                                40732 non-null uint8\n",
            "VehPrice_H                                40732 non-null uint8\n",
            "VehPrice_I                                40732 non-null uint8\n",
            "VehPrice_J                                40732 non-null uint8\n",
            "VehPrice_K                                40732 non-null uint8\n",
            "VehPrice_L                                40732 non-null uint8\n",
            "VehPrice_M                                40732 non-null uint8\n",
            "VehPrice_N                                40732 non-null uint8\n",
            "VehPrice_O                                40732 non-null uint8\n",
            "VehPrice_P                                40732 non-null uint8\n",
            "VehPrice_Q                                40732 non-null uint8\n",
            "VehPrice_R                                40732 non-null uint8\n",
            "VehPrice_S                                40732 non-null uint8\n",
            "VehPrice_T                                40732 non-null uint8\n",
            "VehPrice_U                                40732 non-null uint8\n",
            "VehPrice_V                                40732 non-null uint8\n",
            "VehPrice_W                                40732 non-null uint8\n",
            "VehPrice_X                                40732 non-null uint8\n",
            "VehPrice_Y                                40732 non-null uint8\n",
            "VehPrice_Z                                40732 non-null uint8\n",
            "VehPrice_Z1                               40732 non-null uint8\n",
            "VehEngine_GPL                             40732 non-null uint8\n",
            "VehEngine_carburation                     40732 non-null uint8\n",
            "VehEngine_direct injection overpowered    40732 non-null uint8\n",
            "VehEngine_electric                        40732 non-null uint8\n",
            "VehEngine_injection                       40732 non-null uint8\n",
            "VehEngine_injection overpowered           40732 non-null uint8\n",
            "VehEnergy_GPL                             40732 non-null uint8\n",
            "VehEnergy_diesel                          40732 non-null uint8\n",
            "VehEnergy_eletric                         40732 non-null uint8\n",
            "VehEnergy_regular                         40732 non-null uint8\n",
            "VehMaxSpeed_1-130 km/h                    40732 non-null uint8\n",
            "VehMaxSpeed_130-140 km/h                  40732 non-null uint8\n",
            "VehMaxSpeed_140-150 km/h                  40732 non-null uint8\n",
            "VehMaxSpeed_150-160 km/h                  40732 non-null uint8\n",
            "VehMaxSpeed_160-170 km/h                  40732 non-null uint8\n",
            "VehMaxSpeed_170-180 km/h                  40732 non-null uint8\n",
            "VehMaxSpeed_180-190 km/h                  40732 non-null uint8\n",
            "VehMaxSpeed_190-200 km/h                  40732 non-null uint8\n",
            "VehMaxSpeed_200-220 km/h                  40732 non-null uint8\n",
            "VehMaxSpeed_220+ km/h                     40732 non-null uint8\n",
            "VehClass_0                                40732 non-null uint8\n",
            "VehClass_A                                40732 non-null uint8\n",
            "VehClass_B                                40732 non-null uint8\n",
            "VehClass_H                                40732 non-null uint8\n",
            "VehClass_M1                               40732 non-null uint8\n",
            "VehClass_M2                               40732 non-null uint8\n",
            "Garage_Collective garage                  40732 non-null uint8\n",
            "Garage_None                               40732 non-null uint8\n",
            "Garage_Private garage                     40732 non-null uint8\n",
            "dtypes: float64(2), int64(11), uint8(86)\n",
            "memory usage: 7.4 MB\n"
          ],
          "name": "stdout"
        }
      ]
    },
    {
      "cell_type": "markdown",
      "metadata": {
        "colab_type": "text",
        "id": "2m1bibe9nMKp"
      },
      "source": [
        "XGBoost для многоклассовой классификации принимает на вход значения меток классов в виде `[0, num_classes]`. Поэтому, вычтем из значений переменной `RiskVar` единицу."
      ]
    },
    {
      "cell_type": "code",
      "metadata": {
        "colab_type": "code",
        "id": "6VLMcICSn3B7",
        "colab": {}
      },
      "source": [
        "df['RiskVar'] -= 1"
      ],
      "execution_count": 0,
      "outputs": []
    },
    {
      "cell_type": "markdown",
      "metadata": {
        "colab_type": "text",
        "id": "Nqre5rvZxL-N"
      },
      "source": [
        "Данная переменная принимает значения от 1 до 20, которые, возможно, упорядочены. Посмотрим, сколько полисов соответствуют каждому из значений `RiskVar`, используя метод `groupby`. Для полученных значений также посчитаем нормированную частоту."
      ]
    },
    {
      "cell_type": "code",
      "metadata": {
        "colab_type": "code",
        "id": "nHgg3kZJu8tX",
        "colab": {}
      },
      "source": [
        "FreqCount = pd.DataFrame(df.groupby('RiskVar').size().sort_values(ascending=False),\n",
        "                         columns=['Count'])\n",
        "FreqCount['Freq'] = FreqCount['Count']/FreqCount['Count'].sum()"
      ],
      "execution_count": 0,
      "outputs": []
    },
    {
      "cell_type": "code",
      "metadata": {
        "colab_type": "code",
        "id": "UifKccwQYWiT",
        "outputId": "8e41e74e-8c78-49fe-b328-a7e63becb465",
        "colab": {
          "base_uri": "https://localhost:8080/",
          "height": 282
        }
      },
      "source": [
        "FreqCount.Freq.plot(kind='bar')\n",
        "plt.ylabel('Frequency')\n",
        "plt.show()"
      ],
      "execution_count": 0,
      "outputs": [
        {
          "output_type": "display_data",
          "data": {
            "image/png": "[encoded data removed]",
            "text/plain": [
              "<Figure size 432x288 with 1 Axes>"
            ]
          },
          "metadata": {
            "tags": []
          }
        }
      ]
    },
    {
      "cell_type": "code",
      "metadata": {
        "colab_type": "code",
        "id": "4Gy10AzjXsT9",
        "outputId": "db54d24e-7986-471e-af92-646e0f95d64a",
        "colab": {
          "base_uri": "https://localhost:8080/",
          "height": 700
        }
      },
      "source": [
        "FreqCount"
      ],
      "execution_count": 0,
      "outputs": [
        {
          "output_type": "execute_result",
          "data": {
            "text/html": [
              "<div>\n",
              "<style scoped>\n",
              "    .dataframe tbody tr th:only-of-type {\n",
              "        vertical-align: middle;\n",
              "    }\n",
              "\n",
              "    .dataframe tbody tr th {\n",
              "        vertical-align: top;\n",
              "    }\n",
              "\n",
              "    .dataframe thead th {\n",
              "        text-align: right;\n",
              "    }\n",
              "</style>\n",
              "<table border=\"1\" class=\"dataframe\">\n",
              "  <thead>\n",
              "    <tr style=\"text-align: right;\">\n",
              "      <th></th>\n",
              "      <th>Count</th>\n",
              "      <th>Freq</th>\n",
              "    </tr>\n",
              "    <tr>\n",
              "      <th>RiskVar</th>\n",
              "      <th></th>\n",
              "      <th></th>\n",
              "    </tr>\n",
              "  </thead>\n",
              "  <tbody>\n",
              "    <tr>\n",
              "      <th>15</th>\n",
              "      <td>4906</td>\n",
              "      <td>0.120446</td>\n",
              "    </tr>\n",
              "    <tr>\n",
              "      <th>14</th>\n",
              "      <td>4625</td>\n",
              "      <td>0.113547</td>\n",
              "    </tr>\n",
              "    <tr>\n",
              "      <th>16</th>\n",
              "      <td>3444</td>\n",
              "      <td>0.084553</td>\n",
              "    </tr>\n",
              "    <tr>\n",
              "      <th>19</th>\n",
              "      <td>2894</td>\n",
              "      <td>0.071050</td>\n",
              "    </tr>\n",
              "    <tr>\n",
              "      <th>18</th>\n",
              "      <td>2773</td>\n",
              "      <td>0.068079</td>\n",
              "    </tr>\n",
              "    <tr>\n",
              "      <th>12</th>\n",
              "      <td>2719</td>\n",
              "      <td>0.066753</td>\n",
              "    </tr>\n",
              "    <tr>\n",
              "      <th>17</th>\n",
              "      <td>2614</td>\n",
              "      <td>0.064176</td>\n",
              "    </tr>\n",
              "    <tr>\n",
              "      <th>10</th>\n",
              "      <td>2533</td>\n",
              "      <td>0.062187</td>\n",
              "    </tr>\n",
              "    <tr>\n",
              "      <th>11</th>\n",
              "      <td>2445</td>\n",
              "      <td>0.060027</td>\n",
              "    </tr>\n",
              "    <tr>\n",
              "      <th>13</th>\n",
              "      <td>2096</td>\n",
              "      <td>0.051458</td>\n",
              "    </tr>\n",
              "    <tr>\n",
              "      <th>6</th>\n",
              "      <td>1634</td>\n",
              "      <td>0.040116</td>\n",
              "    </tr>\n",
              "    <tr>\n",
              "      <th>7</th>\n",
              "      <td>1439</td>\n",
              "      <td>0.035328</td>\n",
              "    </tr>\n",
              "    <tr>\n",
              "      <th>9</th>\n",
              "      <td>1314</td>\n",
              "      <td>0.032260</td>\n",
              "    </tr>\n",
              "    <tr>\n",
              "      <th>8</th>\n",
              "      <td>1170</td>\n",
              "      <td>0.028724</td>\n",
              "    </tr>\n",
              "    <tr>\n",
              "      <th>4</th>\n",
              "      <td>979</td>\n",
              "      <td>0.024035</td>\n",
              "    </tr>\n",
              "    <tr>\n",
              "      <th>5</th>\n",
              "      <td>902</td>\n",
              "      <td>0.022145</td>\n",
              "    </tr>\n",
              "    <tr>\n",
              "      <th>2</th>\n",
              "      <td>660</td>\n",
              "      <td>0.016203</td>\n",
              "    </tr>\n",
              "    <tr>\n",
              "      <th>3</th>\n",
              "      <td>603</td>\n",
              "      <td>0.014804</td>\n",
              "    </tr>\n",
              "    <tr>\n",
              "      <th>0</th>\n",
              "      <td>531</td>\n",
              "      <td>0.013036</td>\n",
              "    </tr>\n",
              "    <tr>\n",
              "      <th>1</th>\n",
              "      <td>451</td>\n",
              "      <td>0.011072</td>\n",
              "    </tr>\n",
              "  </tbody>\n",
              "</table>\n",
              "</div>"
            ],
            "text/plain": [
              "         Count      Freq\n",
              "RiskVar                 \n",
              "15        4906  0.120446\n",
              "14        4625  0.113547\n",
              "16        3444  0.084553\n",
              "19        2894  0.071050\n",
              "18        2773  0.068079\n",
              "12        2719  0.066753\n",
              "17        2614  0.064176\n",
              "10        2533  0.062187\n",
              "11        2445  0.060027\n",
              "13        2096  0.051458\n",
              "6         1634  0.040116\n",
              "7         1439  0.035328\n",
              "9         1314  0.032260\n",
              "8         1170  0.028724\n",
              "4          979  0.024035\n",
              "5          902  0.022145\n",
              "2          660  0.016203\n",
              "3          603  0.014804\n",
              "0          531  0.013036\n",
              "1          451  0.011072"
            ]
          },
          "metadata": {
            "tags": []
          },
          "execution_count": 22
        }
      ]
    },
    {
      "cell_type": "markdown",
      "metadata": {
        "colab_type": "text",
        "id": "BzM1998TZDPm"
      },
      "source": [
        "Заметим, что в данном случае присутствует проблема несбалансированности классов. Поэтому, для того, чтобы по возможности избежать ее, воспользуемся взвешиванием наблюдений для обучения модели. Для этого в исходном наборе данных создадим столбец `weight`. Присвоим ему некоторые значения, например, можно задать `0.5` для значений `RiskVar` 14 и 15, а для остальных - 1 (Для этого можем использовать функцию `np.where` и метод `isin` для `pandas.Series`). Также можно попробовать какой-либо другой способ задания весов."
      ]
    },
    {
      "cell_type": "code",
      "metadata": {
        "colab_type": "code",
        "id": "dnL5LOi0i2oq",
        "colab": {}
      },
      "source": [
        "df['weight'] = np.where(df['RiskVar'].isin([14, 15]), 0.5, 1)"
      ],
      "execution_count": 0,
      "outputs": []
    },
    {
      "cell_type": "markdown",
      "metadata": {
        "colab_type": "text",
        "id": "sAlGTL0hBpNv"
      },
      "source": [
        "Разобьем имеющийся набор данных на обучающую, валидационную и тестовую выборки в отношениях 70%/15%/15% соответственно. Зададим зерно для случайного разбиения равным 10."
      ]
    },
    {
      "cell_type": "code",
      "metadata": {
        "colab_type": "code",
        "id": "hsD3GYFzLpzq",
        "colab": {}
      },
      "source": [
        "X = df.drop(columns=['Exposure', 'RiskVar'])\n",
        "y = df['RiskVar']"
      ],
      "execution_count": 0,
      "outputs": []
    },
    {
      "cell_type": "code",
      "metadata": {
        "colab_type": "code",
        "id": "0u45ocam8HCn",
        "colab": {}
      },
      "source": [
        "x_train, x_test, y_train, y_test = train_test_split(X, y, test_size=0.3, random_state=21)\n",
        "x_valid, x_test, y_valid, y_test = train_test_split(x_test, y_test, test_size=0.5, random_state=21)"
      ],
      "execution_count": 0,
      "outputs": []
    },
    {
      "cell_type": "markdown",
      "metadata": {
        "colab_type": "text",
        "id": "PCySK2zQKsUI"
      },
      "source": [
        "Далее, создадим объекты `DMatrix` для обучающей, валидационной и тестовой выборок. Для обучающей выборки также укажем параметр `weight` равным полученному ранее столбцу весов. Данный столбец также нужно исключить из объекта передаваемого в параметр `data`."
      ]
    },
    {
      "cell_type": "code",
      "metadata": {
        "colab_type": "code",
        "id": "1Qmz73qSLpzz",
        "colab": {}
      },
      "source": [
        "xgb_train = xgb.DMatrix(x_train.drop(columns=['weight']).values,\n",
        "                        y_train.values,\n",
        "                        weight=x_train['weight'].values)\n",
        "\n",
        "xgb_valid = xgb.DMatrix(x_valid.drop(columns=['weight']).values,\n",
        "                        y_valid.values)\n",
        "\n",
        "xgb_test = xgb.DMatrix(x_test.drop(columns=['weight']).values,\n",
        "                       y_test.values)"
      ],
      "execution_count": 0,
      "outputs": []
    },
    {
      "cell_type": "markdown",
      "metadata": {
        "colab_type": "text",
        "id": "N__wZRJLaMfs"
      },
      "source": [
        "Для оптимизации гиперпараметров можно воспользоваться различными методами. Однако, в случае Hyperopt, на процесс подбора гиперпараметров может уйти немалое количество часов."
      ]
    },
    {
      "cell_type": "code",
      "metadata": {
        "colab_type": "code",
        "id": "mRLWvtO0Lpz5",
        "colab": {}
      },
      "source": [
        "# Определим функцию для оптимизации гиперпараметров алгоритмом TPE\n",
        "\n",
        "def objective(params):\n",
        "    parameters = {\n",
        "        'objective': 'multi:softmax',\n",
        "        'max_depth':  int(params['max_depth']),\n",
        "        'min_child_weight': params['min_child_weight'],\n",
        "        'subsample': params['subsample'],\n",
        "        'colsample_bytree': params['colsample_bytree'],\n",
        "        'eta': params['eta'],\n",
        "        'alpha': params['alpha'],\n",
        "        'lambda': params['lambda'],\n",
        "        'num_class': y.nunique()\n",
        "    }\n",
        "    \n",
        "    cv_result = xgb.cv(parameters, xgb_train, num_boost_round=int(params['num_boost_round']),\n",
        "                       nfold=3, metrics=['merror'], # Exact matching error, used to evaluate multi-class classification\n",
        "                       seed=21, maximize=False, early_stopping_rounds=10)\n",
        "    score = cv_result['test-merror-mean'][-1:].values[0]\n",
        "    return score"
      ],
      "execution_count": 0,
      "outputs": []
    },
    {
      "cell_type": "code",
      "metadata": {
        "colab_type": "code",
        "id": "rxrkgsMHLpz8",
        "colab": {}
      },
      "source": [
        "# Определим границы, в которых будем искать гиперпараметры \n",
        "\n",
        "space = {'num_boost_round': hp.quniform('num_boost_round', 50, 500, 1),\n",
        "         'max_depth': hp.choice('max_depth', [5, 8, 10, 12, 15]),\n",
        "         'min_child_weight': hp.uniform('min_child_weight', 0, 50),\n",
        "         'subsample': hp.uniform('subsample', 0.5, 1),\n",
        "         'colsample_bytree': hp.uniform('colsample_bytree', 0.5, 1),\n",
        "         'alpha': hp.uniform('alpha', 0, 1),\n",
        "         'lambda': hp.uniform('lambda', 0, 1),\n",
        "         'eta': hp.uniform('eta', 0.01, 1)\n",
        "        }"
      ],
      "execution_count": 0,
      "outputs": []
    },
    {
      "cell_type": "code",
      "metadata": {
        "colab_type": "code",
        "id": "k8oFotURLp0A",
        "outputId": "70daef57-89ad-4e49-ec9f-826ae46ab9ac",
        "colab": {
          "base_uri": "https://localhost:8080/",
          "height": 34
        }
      },
      "source": [
        "# Оптимизация (количество итераций снижено для ускорения работы)\n",
        "\n",
        "best = fmin(fn=objective, space=space, algo=tpe.suggest, max_evals=10)"
      ],
      "execution_count": 0,
      "outputs": [
        {
          "output_type": "stream",
          "text": [
            "100%|██████████| 10/10 [1:46:31<00:00, 690.17s/it, best loss: 0.818347]\n"
          ],
          "name": "stdout"
        }
      ]
    },
    {
      "cell_type": "code",
      "metadata": {
        "colab_type": "code",
        "id": "a-4x9mbSLp0G",
        "outputId": "29d4774d-1f24-4799-cbb6-23d57fd010fe",
        "colab": {
          "base_uri": "https://localhost:8080/",
          "height": 204
        }
      },
      "source": [
        "# Оптимальные гиперпараметры \n",
        "\n",
        "best_params = space_eval(space, best)\n",
        "best_params['objective'] = 'multi:softmax'\n",
        "best_params['eval_metric'] = 'merror'\n",
        "best_params['num_boost_round'] = int(best_params['num_boost_round'])\n",
        "best_params['num_class'] = y.nunique()\n",
        "best_params"
      ],
      "execution_count": 0,
      "outputs": [
        {
          "output_type": "execute_result",
          "data": {
            "text/plain": [
              "{'alpha': 0.6125632114337183,\n",
              " 'colsample_bytree': 0.9212023794611051,\n",
              " 'eta': 0.5010620669783736,\n",
              " 'eval_metric': 'merror',\n",
              " 'lambda': 0.80743908683425,\n",
              " 'max_depth': 12,\n",
              " 'min_child_weight': 43.08364755619517,\n",
              " 'num_boost_round': 239,\n",
              " 'num_class': 20,\n",
              " 'objective': 'multi:softmax',\n",
              " 'subsample': 0.9473435306933524}"
            ]
          },
          "metadata": {
            "tags": []
          },
          "execution_count": 43
        }
      ]
    },
    {
      "cell_type": "markdown",
      "metadata": {
        "colab_type": "text",
        "id": "_3bTqctcR84Z"
      },
      "source": [
        "Далее обучим нашу модель с оптимальными параметрами"
      ]
    },
    {
      "cell_type": "code",
      "metadata": {
        "colab_type": "code",
        "id": "FBDNpgz1Lp0M",
        "scrolled": false,
        "colab": {}
      },
      "source": [
        "# Построение модели с ранней остановкой (early stopping)\n",
        "\n",
        "progress = dict()\n",
        "xgb_riskvar = xgb.train(params=best_params, dtrain=xgb_train,\n",
        "                        maximize=False, evals=[(xgb_train, \"train\"),(xgb_valid, \"valid\")],\n",
        "                        early_stopping_rounds=10, evals_result=progress, verbose_eval=False)"
      ],
      "execution_count": 0,
      "outputs": []
    },
    {
      "cell_type": "markdown",
      "metadata": {
        "colab_type": "text",
        "id": "x9151AtiSRtD"
      },
      "source": [
        "Посчитаем метрики accuracy и f1 на наших наборах данных, также можем визуализировать confusion matrix, например, с помощью `plt.imshow()`. Можно использовать предложенный ниже код."
      ]
    },
    {
      "cell_type": "code",
      "metadata": {
        "colab_type": "code",
        "id": "A6ByYuqwD27P",
        "outputId": "91c2ec5e-3b74-4a16-89fa-9adb98063014",
        "colab": {
          "base_uri": "https://localhost:8080/",
          "height": 170
        }
      },
      "source": [
        "dfsets = [{'set': 'train', 'dmat': xgb_train, 'target': y_train},\n",
        "          {'set': 'valid', 'dmat': xgb_valid, 'target': y_valid},\n",
        "          {'set': 'test', 'dmat': xgb_test, 'target': y_test}]\n",
        "for dfset in dfsets:\n",
        "    class_preds = xgb_riskvar.predict(dfset['dmat']) # Посчитаем предсказанные значения\n",
        "    print('F1 Score on ' + str(dfset['set'])+':', f1_score(dfset['target'], class_preds, average='micro')) # Посчитаем F1 Score\n",
        "    print('Accuracy on ' + str(dfset['set'])+':', accuracy_score(dfset['target'], class_preds)) # Посчитаем accuracy\n",
        "    print('')"
      ],
      "execution_count": 0,
      "outputs": [
        {
          "output_type": "stream",
          "text": [
            "F1 Score on train: 0.22762345679012347\n",
            "Accuracy on train: 0.22762345679012347\n",
            "\n",
            "F1 Score on valid: 0.1469721767594108\n",
            "Accuracy on valid: 0.1469721767594108\n",
            "\n",
            "F1 Score on test: 0.14435351882160394\n",
            "Accuracy on test: 0.14435351882160394\n",
            "\n"
          ],
          "name": "stdout"
        }
      ]
    },
    {
      "cell_type": "code",
      "metadata": {
        "colab_type": "code",
        "id": "36_p091I8Www",
        "outputId": "c87e0fc7-77d8-4a7d-ed57-5b038ec2148d",
        "colab": {
          "base_uri": "https://localhost:8080/",
          "height": 228
        }
      },
      "source": [
        "plt.subplots(1,3, figsize=(15,3))\n",
        "for i in range(len(dfsets)):\n",
        "    confmatrix = confusion_matrix(dfsets[i]['target'], xgb_riskvar.predict(dfsets[i]['dmat']))\n",
        "    plt.subplot(1,3,i+1)\n",
        "    plt.imshow(confmatrix, cmap='Greys')\n",
        "    plt.colorbar()\n",
        "    plt.ylabel('True')\n",
        "    plt.xlabel('Predicted')\n",
        "plt.show()"
      ],
      "execution_count": 0,
      "outputs": [
        {
          "output_type": "display_data",
          "data": {
            "image/png": "[encoded data removed]",
            "text/plain": [
              "<Figure size 1080x216 with 6 Axes>"
            ]
          },
          "metadata": {
            "tags": []
          }
        }
      ]
    },
    {
      "cell_type": "markdown",
      "metadata": {
        "colab_type": "text",
        "id": "X7rFhBo3Tepd"
      },
      "source": [
        "Как вы оцениваете качество построенной модели? Какие проблемы могут здесь присутствовать? Как можно улучшить результат?"
      ]
    },
    {
      "cell_type": "code",
      "metadata": {
        "colab_type": "code",
        "id": "vmTYd1UxZELc",
        "colab": {}
      },
      "source": [
        "**Качество модели в данном случае вышло невысоким - даже на обучающей выборке, судя по метрикам и более четкой визуализации матрицы ошибок (чуть более высокое качество объяснимо переобучением модели). По визуализации матрицы ошибок также видно, что не удалось до конца решить проблему дисбаланса классов, поскольку самые распространенные классы с метками 15 и 16 определяются лучше всего, и необходимо применить другой вариант решения этой проблемы.**\n",
        "\n",
        "**Для улучшения качества:**\n",
        " - Расширить множество параметров для подбора. Стоит рассмотрето и более сложные варианты моделей.\n",
        " - Провести статистический анализ данных. Синтезировать новые признаки, проверить корреляцию признакового пространства с целевой переменной, выделить значимые и полезные признаки.\n",
        " - Уменьшить количество классов с 20. Проверить, не стоит ли объединить некоторые значения показателя. Уже на данный момент исходя из визуализации матрицы ошибок можно предположить, что поскольку показатели ниже 10 классифицируются хуже, их стоит рассматреть под одной меткой класса."
      ],
      "execution_count": 0,
      "outputs": []
    }
  ]
}